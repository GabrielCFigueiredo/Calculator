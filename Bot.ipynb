{
  "cells": [
    {
      "cell_type": "markdown",
      "metadata": {
        "id": "view-in-github",
        "colab_type": "text"
      },
      "source": [
        "<a href=\"https://colab.research.google.com/github/GabrielCFigueiredo/Calculator/blob/calculator/Bot.ipynb\" target=\"_parent\"><img src=\"https://colab.research.google.com/assets/colab-badge.svg\" alt=\"Open In Colab\"/></a>"
      ]
    },
    {
      "cell_type": "code",
      "execution_count": 1,
      "metadata": {
        "colab": {
          "base_uri": "https://localhost:8080/"
        },
        "id": "LNjMrUrk7ntZ",
        "outputId": "5f56bd9c-9028-4f47-f36d-39348c21ba4d"
      },
      "outputs": [
        {
          "output_type": "stream",
          "name": "stdout",
          "text": [
            "Looking in indexes: https://pypi.org/simple, https://us-python.pkg.dev/colab-wheels/public/simple/\n",
            "Requirement already satisfied: python-time in /usr/local/lib/python3.8/dist-packages (0.3.0)\n",
            "Requirement already satisfied: arrow in /usr/local/lib/python3.8/dist-packages (from python-time) (1.2.3)\n",
            "Requirement already satisfied: python-dateutil>=2.7.0 in /usr/local/lib/python3.8/dist-packages (from arrow->python-time) (2.8.2)\n",
            "Requirement already satisfied: six>=1.5 in /usr/local/lib/python3.8/dist-packages (from python-dateutil>=2.7.0->arrow->python-time) (1.15.0)\n"
          ]
        }
      ],
      "source": [
        "pip install python-time"
      ]
    },
    {
      "cell_type": "code",
      "source": [],
      "metadata": {
        "id": "rHpdyhLkZzua"
      },
      "execution_count": 1,
      "outputs": []
    },
    {
      "cell_type": "code",
      "execution_count": 2,
      "metadata": {
        "colab": {
          "base_uri": "https://localhost:8080/"
        },
        "id": "v2ie8HFC_HLz",
        "outputId": "a0dcd263-4ddd-460f-8bfd-5230bae64019"
      },
      "outputs": [
        {
          "output_type": "stream",
          "name": "stdout",
          "text": [
            "Looking in indexes: https://pypi.org/simple, https://us-python.pkg.dev/colab-wheels/public/simple/\n",
            "Requirement already satisfied: requests in /usr/local/lib/python3.8/dist-packages (2.25.1)\n",
            "Requirement already satisfied: certifi>=2017.4.17 in /usr/local/lib/python3.8/dist-packages (from requests) (2022.12.7)\n",
            "Requirement already satisfied: chardet<5,>=3.0.2 in /usr/local/lib/python3.8/dist-packages (from requests) (4.0.0)\n",
            "Requirement already satisfied: urllib3<1.27,>=1.21.1 in /usr/local/lib/python3.8/dist-packages (from requests) (1.24.3)\n",
            "Requirement already satisfied: idna<3,>=2.5 in /usr/local/lib/python3.8/dist-packages (from requests) (2.10)\n"
          ]
        }
      ],
      "source": [
        "pip install requests"
      ]
    },
    {
      "cell_type": "code",
      "execution_count": 3,
      "metadata": {
        "colab": {
          "base_uri": "https://localhost:8080/"
        },
        "id": "1tOaDVHF_S20",
        "outputId": "4cd10c5e-bd4b-435e-bc8a-2914f069a0cd"
      },
      "outputs": [
        {
          "output_type": "stream",
          "name": "stdout",
          "text": [
            "Looking in indexes: https://pypi.org/simple, https://us-python.pkg.dev/colab-wheels/public/simple/\n",
            "Collecting jsonlib\n",
            "  Using cached jsonlib-1.6.1.tar.gz (43 kB)\n",
            "  Preparing metadata (setup.py) ... \u001b[?25l\u001b[?25hdone\n",
            "Building wheels for collected packages: jsonlib\n",
            "  \u001b[1;31merror\u001b[0m: \u001b[1msubprocess-exited-with-error\u001b[0m\n",
            "  \n",
            "  \u001b[31m×\u001b[0m \u001b[32mpython setup.py bdist_wheel\u001b[0m did not run successfully.\n",
            "  \u001b[31m│\u001b[0m exit code: \u001b[1;36m1\u001b[0m\n",
            "  \u001b[31m╰─>\u001b[0m See above for output.\n",
            "  \n",
            "  \u001b[1;35mnote\u001b[0m: This error originates from a subprocess, and is likely not a problem with pip.\n",
            "  Building wheel for jsonlib (setup.py) ... \u001b[?25lerror\n",
            "\u001b[31m  ERROR: Failed building wheel for jsonlib\u001b[0m\u001b[31m\n",
            "\u001b[0m\u001b[?25h  Running setup.py clean for jsonlib\n",
            "Failed to build jsonlib\n",
            "Installing collected packages: jsonlib\n",
            "  \u001b[1;31merror\u001b[0m: \u001b[1msubprocess-exited-with-error\u001b[0m\n",
            "  \n",
            "  \u001b[31m×\u001b[0m \u001b[32mRunning setup.py install for jsonlib\u001b[0m did not run successfully.\n",
            "  \u001b[31m│\u001b[0m exit code: \u001b[1;36m1\u001b[0m\n",
            "  \u001b[31m╰─>\u001b[0m See above for output.\n",
            "  \n",
            "  \u001b[1;35mnote\u001b[0m: This error originates from a subprocess, and is likely not a problem with pip.\n",
            "  Running setup.py install for jsonlib ... \u001b[?25l\u001b[?25herror\n",
            "\u001b[1;31merror\u001b[0m: \u001b[1mlegacy-install-failure\u001b[0m\n",
            "\n",
            "\u001b[31m×\u001b[0m Encountered error while trying to install package.\n",
            "\u001b[31m╰─>\u001b[0m jsonlib\n",
            "\n",
            "\u001b[1;35mnote\u001b[0m: This is an issue with the package mentioned above, not pip.\n",
            "\u001b[1;36mhint\u001b[0m: See above for output from the failure.\n"
          ]
        }
      ],
      "source": [
        "pip install jsonlib"
      ]
    },
    {
      "cell_type": "code",
      "execution_count": 4,
      "metadata": {
        "id": "YExbqWWv_gRo",
        "colab": {
          "base_uri": "https://localhost:8080/"
        },
        "outputId": "efc54765-43a2-4e23-d3cb-88ac35cc2916"
      },
      "outputs": [
        {
          "output_type": "stream",
          "name": "stdout",
          "text": [
            "Looking in indexes: https://pypi.org/simple, https://us-python.pkg.dev/colab-wheels/public/simple/\n",
            "Requirement already satisfied: beautifulsoup4 in /usr/local/lib/python3.8/dist-packages (4.6.3)\n"
          ]
        }
      ],
      "source": [
        "pip install beautifulsoup4"
      ]
    },
    {
      "cell_type": "code",
      "execution_count": 5,
      "metadata": {
        "id": "Vt06Atp-_tpe",
        "colab": {
          "base_uri": "https://localhost:8080/"
        },
        "outputId": "5061a24f-6381-4d4c-a64e-3e35d29024e4"
      },
      "outputs": [
        {
          "output_type": "stream",
          "name": "stdout",
          "text": [
            "Looking in indexes: https://pypi.org/simple, https://us-python.pkg.dev/colab-wheels/public/simple/\n",
            "Requirement already satisfied: python-telegram-bot in /usr/local/lib/python3.8/dist-packages (20.0)\n",
            "Requirement already satisfied: httpx~=0.23.1 in /usr/local/lib/python3.8/dist-packages (from python-telegram-bot) (0.23.3)\n",
            "Requirement already satisfied: rfc3986[idna2008]<2,>=1.3 in /usr/local/lib/python3.8/dist-packages (from httpx~=0.23.1->python-telegram-bot) (1.5.0)\n",
            "Requirement already satisfied: sniffio in /usr/local/lib/python3.8/dist-packages (from httpx~=0.23.1->python-telegram-bot) (1.3.0)\n",
            "Requirement already satisfied: certifi in /usr/local/lib/python3.8/dist-packages (from httpx~=0.23.1->python-telegram-bot) (2022.12.7)\n",
            "Requirement already satisfied: httpcore<0.17.0,>=0.15.0 in /usr/local/lib/python3.8/dist-packages (from httpx~=0.23.1->python-telegram-bot) (0.16.3)\n",
            "Requirement already satisfied: anyio<5.0,>=3.0 in /usr/local/lib/python3.8/dist-packages (from httpcore<0.17.0,>=0.15.0->httpx~=0.23.1->python-telegram-bot) (3.6.2)\n",
            "Requirement already satisfied: h11<0.15,>=0.13 in /usr/local/lib/python3.8/dist-packages (from httpcore<0.17.0,>=0.15.0->httpx~=0.23.1->python-telegram-bot) (0.14.0)\n",
            "Requirement already satisfied: idna in /usr/local/lib/python3.8/dist-packages (from rfc3986[idna2008]<2,>=1.3->httpx~=0.23.1->python-telegram-bot) (2.10)\n"
          ]
        }
      ],
      "source": [
        "pip install python-telegram-bot"
      ]
    },
    {
      "cell_type": "code",
      "execution_count": 6,
      "metadata": {
        "id": "fPTGIMH4_6xF"
      },
      "outputs": [],
      "source": [
        "import time \n",
        "import requests\n",
        "import json\n",
        "from bs4 import BeautifulSoup\n",
        "import telegram"
      ]
    },
    {
      "cell_type": "markdown",
      "metadata": {
        "id": "PmFksrWbBxnK"
      },
      "source": [
        "Informação do bot"
      ]
    },
    {
      "cell_type": "code",
      "execution_count": 7,
      "metadata": {
        "id": "LctnptqVB7-r"
      },
      "outputs": [],
      "source": [
        "token = '5967880756:AAG0nwFPYWYOOHeuOfVgRdpwoTEy4aeu-9w'\n",
        "chat_id = '-1001840690796'"
      ]
    },
    {
      "cell_type": "markdown",
      "metadata": {
        "id": "h5ampoIEWXuv"
      },
      "source": [
        "Corpo do Codigo"
      ]
    },
    {
      "cell_type": "code",
      "execution_count": 10,
      "metadata": {
        "id": "3DZihDwaWayt",
        "colab": {
          "base_uri": "https://localhost:8080/",
          "height": 235
        },
        "outputId": "a8e3bcd0-b860-4381-fbe0-503b14626877"
      },
      "outputs": [
        {
          "output_type": "error",
          "ename": "TypeError",
          "evalue": "ignored",
          "traceback": [
            "\u001b[0;31m---------------------------------------------------------------------------\u001b[0m",
            "\u001b[0;31mTypeError\u001b[0m                                 Traceback (most recent call last)",
            "\u001b[0;32m<ipython-input-10-3ba9e15db394>\u001b[0m in \u001b[0;36m<module>\u001b[0;34m\u001b[0m\n\u001b[1;32m     68\u001b[0m        \u001b[0;31m#appm1\u001b[0m\u001b[0;34m\u001b[0m\u001b[0;34m\u001b[0m\u001b[0;34m\u001b[0m\u001b[0m\n\u001b[1;32m     69\u001b[0m \u001b[0;34m\u001b[0m\u001b[0m\n\u001b[0;32m---> 70\u001b[0;31m        \u001b[0mappm1_home\u001b[0m \u001b[0;34m=\u001b[0m \u001b[0mgame\u001b[0m\u001b[0;34m[\u001b[0m\u001b[0;34m'pressureStats'\u001b[0m\u001b[0;34m]\u001b[0m\u001b[0;34m[\u001b[0m\u001b[0;34m'appm1'\u001b[0m\u001b[0;34m]\u001b[0m\u001b[0;34m[\u001b[0m\u001b[0;34m'home'\u001b[0m\u001b[0;34m]\u001b[0m\u001b[0;34m\u001b[0m\u001b[0;34m\u001b[0m\u001b[0m\n\u001b[0m\u001b[1;32m     71\u001b[0m        \u001b[0mappm1_away\u001b[0m \u001b[0;34m=\u001b[0m \u001b[0mgame\u001b[0m\u001b[0;34m[\u001b[0m\u001b[0;34m'pressureStats'\u001b[0m\u001b[0;34m]\u001b[0m\u001b[0;34m[\u001b[0m\u001b[0;34m'appm1'\u001b[0m\u001b[0;34m]\u001b[0m\u001b[0;34m[\u001b[0m\u001b[0;34m'away'\u001b[0m\u001b[0;34m]\u001b[0m\u001b[0;34m\u001b[0m\u001b[0;34m\u001b[0m\u001b[0m\n\u001b[1;32m     72\u001b[0m \u001b[0;34m\u001b[0m\u001b[0m\n",
            "\u001b[0;31mTypeError\u001b[0m: 'NoneType' object is not subscriptable"
          ]
        }
      ],
      "source": [
        "from requests.api import request\n",
        "i = 0\n",
        "while True:\n",
        "   \n",
        "      url = \"https://api.sportsanalytics.com.br/api/v1/fixtures-svc/fixtures/livescores?include=weatherReport,additionalInfo,league,stats,pressureStats,probabilities\"\n",
        "\n",
        "\n",
        "      headers = {\n",
        "          \"cookie\": \"route=93d3fcde97da7043d51f34c8d08924d3; SRVGROUP=common\",\n",
        "          \"authority\": \"api.sportsanalytics.com.br\",\n",
        "          \"accept\": \"application/json, text/plain */*\",\n",
        "          \"accept-language\": \"pt-BR,pt;q-0.9,en-US;q-0.8,en;q-0.7\",\n",
        "          \"origin\": \"https://playscores.com\",\n",
        "          \"referer\": \"https://playscores.com/\",\n",
        "\n",
        "          }\n",
        "      time.sleep(5)\n",
        "      response = requests.request(\"GET\", url, headers=headers,)\n",
        "      soup = BeautifulSoup(requests.get(url).content, \"html.parser\")\n",
        "      dic_response = response.json()\n",
        "\n",
        "      for game in dic_response['data']:\n",
        "       date = game['date']\n",
        "\n",
        "       #Team\n",
        "       \n",
        "       awayTeam = game['awayTeam']['name']\n",
        "       homeTeam = game['homeTeam']['name']\n",
        "       league = game['league']['name']\n",
        "\n",
        "       #currentTime\n",
        "\n",
        "       minute = game['currentTime']['minute']\n",
        "       second = game['currentTime']['second']\n",
        "\n",
        "       #scores\n",
        "\n",
        "       homeTeamScore = game['scores']['homeTeamScore']\n",
        "       awayTeamScore = game['scores']['awayTeamScore']\n",
        "\n",
        "\n",
        "       \n",
        "\n",
        "       corners_home = game['stats']['corners']['home']\n",
        "       corners_away = game['stats']['corners']['away']\n",
        "\n",
        "\n",
        "       #dangerousAttacks\n",
        "\n",
        "       dangerousAttacks_home = game['stats']['dangerousAttacks']['home']\n",
        "       dangerousAttacks_away = game['stats']['dangerousAttacks']['away']\n",
        "\n",
        "       #shotsOngoal\n",
        "\n",
        "       shotsOngoal_home = game['stats']['shotsOngoal']['home']\n",
        "       shotsOngoal_away = game['stats']['shotsOngoal']['away']\n",
        "\n",
        "       #shotsOffgoal\n",
        "\n",
        "       shotsOffgoal_home = game['stats']['shotsOffgoal']['home']\n",
        "       shotsOffgoal_away = game['stats']['shotsOffgoal']['away']\n",
        "\n",
        "       #yellowredcards\n",
        "\n",
        "       yellowredcards_home = game['stats']['yellowredcards']['home']\n",
        "       yellowredcards_away = game['stats']['yellowredcards']['away']\n",
        "\n",
        "       #appm1\n",
        "\n",
        "       appm1_home = game['pressureStats']['appm1']['home']\n",
        "       appm1_away = game['pressureStats']['appm1']['away']\n",
        "\n",
        "       #appm2\n",
        "\n",
        "       appm2_home = game['pressureStats']['appm2']['home']\n",
        "       appm2_away = game['pressureStats']['appm2']['away']\n",
        "\n",
        "       #exg\n",
        "\n",
        "       exg_home = game['pressureStats']['exg']['home']\n",
        "       exg_away = game['pressureStats']['exg']['away']\n",
        "\n",
        "       #mh1\n",
        "\n",
        "       mh1_home = game['pressureStats']['mh1']['home']\n",
        "       mh1_away = game['pressureStats']['mh1']['away']\n",
        "\n",
        "       #mh2\n",
        "\n",
        "       mh2_home = game['pressureStats']['mh2']['home']\n",
        "       mh2_away = game['pressureStats']['mh2']['away']\n",
        "\n",
        "       #mh3\n",
        "\n",
        "       mh3_home = game['pressureStats']['appm1']['home']\n",
        "       mh3_away = game['pressureStats']['appm1']['away']\n",
        "\n",
        "       if appm1_home >= 0.7 or appm1_away >= 0.7:\n",
        "         \n",
        "         if minute >= 25:\n",
        "           if minute <= 38:\n",
        "             text = '''Estrategia:\n",
        "\n",
        "             CANTO HT(35MIN)\n",
        "\n",
        "             times: {} vs {}\n",
        "             nao: {}\n",
        "             minute: {}\n",
        "\n",
        "             estatistica (Casa - Fora)\n",
        "\n",
        "             placar: {} - {}\n",
        "             exg: {} - {}\n",
        "             ataques perigosos: {} - {}\n",
        "             chutes no gol: {} - {}\n",
        "             chutes fora do gol: {} - {}\n",
        "             escanteios: {} - {}\n",
        "             appm: {} - {}\n",
        "             \n",
        "\n",
        "             '''.format(homeTeam, awayTeam, league, minute, homeTeamScore, awayTeamScore, exg_home, exg_away, dangerousAttacks_home, dangerousAttacks_away, shotsOngoal_home, shotsOngoal_away,\n",
        "                        corners_home, corners_away, shotsOffgoal_home, shotsOffgoal_away, appm1_home, appm1_away)\n",
        "             url_base = f'https://api.telegram.org/bot{token}/sendMessage?chat_id={chat_id}&text={text}'\n",
        "             results = requests.get(url_base)\n",
        "\n",
        "             df1 = (minute, '|', homeTeam, 'x', awayTeam, '|', 'Escanteio 1 tempo')\n",
        "             print(df1)\n",
        "\n",
        "             i = +1\n",
        "             dic_response['data'][0]\n",
        "             time.sleep(40)"
      ]
    },
    {
      "cell_type": "markdown",
      "source": [
        "# Nova seção"
      ],
      "metadata": {
        "id": "YHwdsVYh6DR9"
      }
    },
    {
      "cell_type": "markdown",
      "metadata": {
        "id": "tqHd-aLBpNE8"
      },
      "source": [
        "Bot 80min"
      ]
    },
    {
      "cell_type": "code",
      "execution_count": null,
      "metadata": {
        "id": "WRzxyLa5pQkj"
      },
      "outputs": [],
      "source": [
        "from requests.api import request\n",
        "i = 0\n",
        "while True:\n",
        "   \n",
        "      url = \"https://api.sportsanalytics.com.br/api/v1/fixtures-svc/fixtures/livescores?include=weatherReport,additionalInfo,league,stats,pressureStats,probabilities\"\n",
        "\n",
        "\n",
        "      headers = {\n",
        "          \"cookie\": \"route=93d3fcde97da7043d51f34c8d08924d3; SRVGROUP=common\",\n",
        "          \"authority\": \"api.sportsanalytics.com.br\",\n",
        "          \"accept\": \"application/json, text/plain */*\",\n",
        "          \"accept-language\": \"pt-BR,pt;q-0.9,en-US;q-0.8,en;q-0.7\",\n",
        "          \"origin\": \"https://playscores.com\",\n",
        "          \"referer\": \"https://playscores.com/\",\n",
        "\n",
        "          }\n",
        "      time.sleep(5)\n",
        "      response = requests.request(\"GET\", url, headers=headers,)\n",
        "      soup = BeautifulSoup(requests.get(url).content, \"html.parser\")\n",
        "      dic_response = response.json()\n",
        "\n",
        "      for game in dic_response['data']:\n",
        "       date = game['date']\n",
        "\n",
        "       #Team\n",
        "       \n",
        "       awayTeam = game['awayTeam']['name']\n",
        "       homeTeam = game['homeTeam']['name']\n",
        "       league = game['league']['name']\n",
        "\n",
        "       #currentTime\n",
        "\n",
        "       minute = game['currentTime']['minute']\n",
        "       second = game['currentTime']['second']\n",
        "\n",
        "       #scores\n",
        "\n",
        "       homeTeamScore = game['scores']['homeTeamScore']\n",
        "       awayTeamScore = game['scores']['awayTeamScore']\n",
        "\n",
        "       #corners\n",
        "\n",
        "       corners_home = game['stats']['corners']['home']\n",
        "       corners_away = game['stats']['corners']['away']\n",
        "\n",
        "       #dangerousAttacks\n",
        "\n",
        "       dangerousAttacks_home = game['stats']['dangerousAttacks']['home']\n",
        "       dangerousAttacks_away = game['stats']['dangerousAttacks']['away']\n",
        "\n",
        "       #shotsOngoal\n",
        "\n",
        "       shotsOngoal_home = game['stats']['shotsOngoal']['home']\n",
        "       shotsOngoal_away = game['stats']['shotsOngoal']['away']\n",
        "\n",
        "       #shotsOffgoal\n",
        "\n",
        "       shotsOffgoal_home = game['stats']['shotsOffgoal']['home']\n",
        "       shotsOffgoal_away = game['stats']['shotsOffgoal']['away']\n",
        "\n",
        "       #yellowredcards\n",
        "\n",
        "       yellowredcards_home = game['stats']['yellowredcards']['home']\n",
        "       yellowredcards_away = game['stats']['yellowredcards']['away']\n",
        "\n",
        "       #appm1\n",
        "\n",
        "       appm1_home = game['pressureStats']['appm1']['home']\n",
        "       appm1_away = game['pressureStats']['appm1']['away']\n",
        "\n",
        "       #appm2\n",
        "\n",
        "       appm2_home = game['pressureStats']['appm2']['home']\n",
        "       appm2_away = game['pressureStats']['appm2']['away']\n",
        "\n",
        "       #exg\n",
        "\n",
        "       exg_home = game['pressureStats']['exg']['home']\n",
        "       exg_away = game['pressureStats']['exg']['away']\n",
        "\n",
        "       #mh1\n",
        "\n",
        "       mh1_home = game['pressureStats']['mh1']['home']\n",
        "       mh1_away = game['pressureStats']['mh1']['away']\n",
        "\n",
        "       #mh2\n",
        "\n",
        "       mh2_home = game['pressureStats']['mh2']['home']\n",
        "       mh2_away = game['pressureStats']['mh2']['away']\n",
        "\n",
        "       #mh3\n",
        "\n",
        "       mh3_home = game['pressureStats']['appm1']['home']\n",
        "       mh3_away = game['pressureStats']['appm1']['away']\n",
        "\n",
        "       if appm1_home >= 0.7 or appm1_away >= 0.7:\n",
        "         \n",
        "         if minute >= 70:\n",
        "           if minute <= 90:\n",
        "             text = '''Estrategia:\n",
        "\n",
        "             CANTO HT(80MIN)\n",
        "\n",
        "             times: {} vs {}\n",
        "             nao: {}\n",
        "             minute: {}\n",
        "\n",
        "             estatistica (Casa - Fora)\n",
        "\n",
        "             placar: {} - {}\n",
        "             exg: {} - {}\n",
        "             ataques perigosos: {} - {}\n",
        "             chutes no gol: {} - {}\n",
        "             chutes fora do gol: {} - {}\n",
        "             escanteios: {} - {}\n",
        "             appm: {} - {}\n",
        "             \n",
        "\n",
        "             '''.format(homeTeam, awayTeam, league, minute, homeTeamScore, awayTeamScore, exg_home, exg_away, dangerousAttacks_home, dangerousAttacks_away, shotsOngoal_home, shotsOngoal_away,\n",
        "                        corners_home, corners_away, shotsOffgoal_home, shotsOffgoal_away, appm1_home, appm1_away)\n",
        "             url_base = f'https://api.telegram.org/bot{token}/sendMessage?chat_id={chat_id}&text={text}'\n",
        "             results = requests.get(url_base)\n",
        "\n",
        "             df1 = (minute, '|', homeTeam, 'x', awayTeam, '|', 'Escanteio 1 tempo')\n",
        "             print(df1)\n",
        "\n",
        "             i = +1\n",
        "             dic_response['data'][0]\n",
        "             time.sleep(40)"
      ]
    }
  ],
  "metadata": {
    "colab": {
      "provenance": [],
      "authorship_tag": "ABX9TyPwqBgd8wRZ2LIocwFPqO1O",
      "include_colab_link": true
    },
    "kernelspec": {
      "display_name": "Python 3",
      "name": "python3"
    },
    "language_info": {
      "name": "python"
    }
  },
  "nbformat": 4,
  "nbformat_minor": 0
}